{
 "cells": [
  {
   "cell_type": "markdown",
   "id": "4f27dd0d-87f5-4e4f-b04f-336770bf980e",
   "metadata": {},
   "source": [
    "# Reproductor de musica"
   ]
  },
  {
   "cell_type": "code",
   "execution_count": 9,
   "id": "9ef19239-e449-4d6b-b087-d54a8a9f1fe9",
   "metadata": {},
   "outputs": [
    {
     "name": "stdout",
     "output_type": "stream",
     "text": [
      "Lista de Reproducción\n",
      "\n",
      "Ingresa la palabra que te gustaría\n",
      "Ejemplo: 'rock', y obtendrás un playlist de canciones o artistas que incluyan la palabra rock\n"
     ]
    },
    {
     "name": "stdin",
     "output_type": "stream",
     "text": [
      " rock\n"
     ]
    },
    {
     "name": "stdout",
     "output_type": "stream",
     "text": [
      "['Rock My Body', 'R3HAB']\n",
      "('Rock My Body', 'R3HAB')\n",
      "<class 'tuple'>\n"
     ]
    }
   ],
   "source": [
    "import requests\n",
    "print(\"Lista de Reproducción\\n\")\n",
    " # Referencia: https://www.deezer.com/en/channels/explore\n",
    "print(\"Ingresa la palabra que te gustaría\")\n",
    "print(\"Ejemplo: 'rock', y obtendrás un playlist de canciones o artistas que incluyan la palabra rock\")\n",
    "word_to_search = input()\n",
    "url = \"https://deezerdevs-deezer.p.rapidapi.com/search\"\n",
    "querystring = {\"q\":word_to_search}\n",
    "headers = {\n",
    "    \"X-RapidAPI-Key\": \"3ed98f551fmshe4e6260228c4eadp13db17jsn8c893e1194da\",\n",
    "    \"X-RapidAPI-Host\": \"deezerdevs-deezer.p.rapidapi.com\"\n",
    " }\n",
    "response = requests.request(\"GET\", url, headers=headers, params=querystring).json()\n",
    "for element in response['data']:\n",
    "    my_list = [element['title'], element['artist']['name']]\n",
    "    my_tuple = (element ['title'], element ['artist']['name'])\n",
    "print(my_list)\n",
    "print(tuple(my_list))\n",
    "print(type(my_tuple))"
   ]
  },
  {
   "cell_type": "code",
   "execution_count": null,
   "id": "48a0a2d6-94a5-44cf-81b1-e5ce5bda11a6",
   "metadata": {},
   "outputs": [],
   "source": []
  },
  {
   "cell_type": "code",
   "execution_count": null,
   "id": "d206b9ec-7695-460b-9a7a-3ffd94fb79b7",
   "metadata": {},
   "outputs": [],
   "source": []
  },
  {
   "cell_type": "code",
   "execution_count": null,
   "id": "4357d328-1377-4ba9-b5b1-0606696e6073",
   "metadata": {},
   "outputs": [],
   "source": []
  },
  {
   "cell_type": "code",
   "execution_count": null,
   "id": "2fed48a0-d62e-4c25-a412-28aaf51dc927",
   "metadata": {},
   "outputs": [],
   "source": []
  },
  {
   "cell_type": "code",
   "execution_count": null,
   "id": "de602a3e-7cd9-40ca-a8c5-62ab25b4acae",
   "metadata": {},
   "outputs": [],
   "source": []
  }
 ],
 "metadata": {
  "kernelspec": {
   "display_name": "Python 3 (ipykernel)",
   "language": "python",
   "name": "python3"
  },
  "language_info": {
   "codemirror_mode": {
    "name": "ipython",
    "version": 3
   },
   "file_extension": ".py",
   "mimetype": "text/x-python",
   "name": "python",
   "nbconvert_exporter": "python",
   "pygments_lexer": "ipython3",
   "version": "3.12.5"
  }
 },
 "nbformat": 4,
 "nbformat_minor": 5
}
